{
 "cells": [
  {
   "cell_type": "markdown",
   "id": "f1975692",
   "metadata": {},
   "source": [
    "# Python Webinar #2 #\n",
    "\n",
    "#### 5th June 2021 ####"
   ]
  },
  {
   "cell_type": "markdown",
   "id": "6c9ee7f1",
   "metadata": {},
   "source": [
    "## Basic List and String functions ##"
   ]
  },
  {
   "cell_type": "code",
   "execution_count": 1,
   "id": "6bc962db",
   "metadata": {},
   "outputs": [
    {
     "name": "stdout",
     "output_type": "stream",
     "text": [
      "Hello\n"
     ]
    }
   ],
   "source": [
    "print(\"Hello\")"
   ]
  },
  {
   "cell_type": "code",
   "execution_count": 2,
   "id": "ce0d55b2",
   "metadata": {},
   "outputs": [],
   "source": [
    "a = \"   4  5 6 7 \""
   ]
  },
  {
   "cell_type": "code",
   "execution_count": 3,
   "id": "ac0d7a10",
   "metadata": {},
   "outputs": [
    {
     "data": {
      "text/plain": [
       "'4  5 6 7'"
      ]
     },
     "execution_count": 3,
     "metadata": {},
     "output_type": "execute_result"
    }
   ],
   "source": [
    "a.strip()"
   ]
  },
  {
   "cell_type": "code",
   "execution_count": 4,
   "id": "8507b7d5",
   "metadata": {},
   "outputs": [],
   "source": [
    "a = \"   4  5 6 7 \""
   ]
  },
  {
   "cell_type": "code",
   "execution_count": 5,
   "id": "16248c20",
   "metadata": {},
   "outputs": [
    {
     "data": {
      "text/plain": [
       "['4', '5', '6', '7']"
      ]
     },
     "execution_count": 5,
     "metadata": {},
     "output_type": "execute_result"
    }
   ],
   "source": [
    "a.split()"
   ]
  },
  {
   "cell_type": "code",
   "execution_count": 6,
   "id": "f46bf03d",
   "metadata": {},
   "outputs": [],
   "source": [
    "li = a.split()"
   ]
  },
  {
   "cell_type": "code",
   "execution_count": 7,
   "id": "3fcbddfa",
   "metadata": {},
   "outputs": [
    {
     "name": "stdout",
     "output_type": "stream",
     "text": [
      "[4, 5, 6, 7]\n"
     ]
    }
   ],
   "source": [
    "print(list(map(int, li)))"
   ]
  },
  {
   "cell_type": "markdown",
   "id": "84bdc369",
   "metadata": {},
   "source": [
    "## Object Oriented Programming ##"
   ]
  },
  {
   "cell_type": "markdown",
   "id": "ae01bcd4",
   "metadata": {},
   "source": [
    "#abstraction\n",
    "#emcapsulation\n",
    "#polymorphism\n",
    "#inheritance"
   ]
  },
  {
   "cell_type": "code",
   "execution_count": 8,
   "id": "90a43cf6",
   "metadata": {},
   "outputs": [],
   "source": [
    "#example class"
   ]
  },
  {
   "cell_type": "code",
   "execution_count": 9,
   "id": "00ec54cc",
   "metadata": {},
   "outputs": [],
   "source": [
    "class Human: # class name in captial, no body leads to error\n",
    "    # pass can be added if you want an empty class temporarlily\n",
    "    name = \"nameless\"\n",
    "    age = 0\n",
    "    education = \"uneducate\" #these are the default values of the class"
   ]
  },
  {
   "cell_type": "code",
   "execution_count": 10,
   "id": "22c6c271",
   "metadata": {},
   "outputs": [],
   "source": [
    "kunal = Human() \n",
    "# whenever an object is create, a constructor is called\n",
    "# constructor is a function, but the class has no functions in it? "
   ]
  },
  {
   "cell_type": "code",
   "execution_count": 11,
   "id": "ecec1cbf",
   "metadata": {},
   "outputs": [],
   "source": [
    "apoorv = Human()"
   ]
  },
  {
   "cell_type": "code",
   "execution_count": 12,
   "id": "569bd36c",
   "metadata": {},
   "outputs": [
    {
     "data": {
      "text/plain": [
       "(0, 0)"
      ]
     },
     "execution_count": 12,
     "metadata": {},
     "output_type": "execute_result"
    }
   ],
   "source": [
    "kunal.age, apoorv.age # default values"
   ]
  },
  {
   "cell_type": "code",
   "execution_count": 13,
   "id": "f7bc8b1a",
   "metadata": {},
   "outputs": [],
   "source": [
    "kunal.age = 20\n",
    "apoorv.age = 56"
   ]
  },
  {
   "cell_type": "code",
   "execution_count": 14,
   "id": "795618bb",
   "metadata": {},
   "outputs": [],
   "source": [
    "kunal.age = \"Kunal\"\n",
    "apoorv.name = \"Apoorv\" # till these comands were written, its locaal scope will be empty"
   ]
  },
  {
   "cell_type": "code",
   "execution_count": 15,
   "id": "74a488e3",
   "metadata": {},
   "outputs": [],
   "source": [
    "kunal.salary = 5000"
   ]
  },
  {
   "cell_type": "code",
   "execution_count": 16,
   "id": "22e6ec31",
   "metadata": {},
   "outputs": [
    {
     "ename": "AttributeError",
     "evalue": "'Human' object has no attribute 'salary'",
     "output_type": "error",
     "traceback": [
      "\u001b[1;31m---------------------------------------------------------------------------\u001b[0m",
      "\u001b[1;31mAttributeError\u001b[0m                            Traceback (most recent call last)",
      "\u001b[1;32m<ipython-input-16-b5f2353f0e78>\u001b[0m in \u001b[0;36m<module>\u001b[1;34m\u001b[0m\n\u001b[1;32m----> 1\u001b[1;33m \u001b[0mapoorv\u001b[0m\u001b[1;33m.\u001b[0m\u001b[0msalary\u001b[0m\u001b[1;33m\u001b[0m\u001b[1;33m\u001b[0m\u001b[0m\n\u001b[0m\u001b[0;32m      2\u001b[0m \u001b[1;31m# error, because the human class has no attribute for salary, but kunal has one cuz we defined it\u001b[0m\u001b[1;33m\u001b[0m\u001b[1;33m\u001b[0m\u001b[1;33m\u001b[0m\u001b[0m\n",
      "\u001b[1;31mAttributeError\u001b[0m: 'Human' object has no attribute 'salary'"
     ]
    }
   ],
   "source": [
    "apoorv.salary \n",
    "# error, because the human class has no attribute for salary, but kunal has one cuz we defined it "
   ]
  },
  {
   "cell_type": "code",
   "execution_count": null,
   "id": "b24ed4d0",
   "metadata": {},
   "outputs": [],
   "source": [
    "# This is however, very inefficient, we wanna be able to define this while creating the object"
   ]
  },
  {
   "cell_type": "code",
   "execution_count": 17,
   "id": "8c8fc0e1",
   "metadata": {},
   "outputs": [],
   "source": [
    "class Human: # class name in captial, no body leads to error\n",
    "    # pass can be added if you want an empty class temporarlily\n",
    "    name = \"nameless\"\n",
    "    age = 0 #these are the default values of the class\n",
    "    def age_fun(self): \n",
    "        # This function needs to take atleast one arg, even though during implementation we \n",
    "        # needn't write the argument, cuz 'self' is automatically passed and that causes error\n",
    "        # as python expects no argument for the function within the class\n",
    "        print(self, self.age, sep = '\\n')\n",
    "    "
   ]
  },
  {
   "cell_type": "code",
   "execution_count": 18,
   "id": "3230935d",
   "metadata": {},
   "outputs": [
    {
     "name": "stdout",
     "output_type": "stream",
     "text": [
      "<__main__.Human object at 0x0000021A9F19C9D0>\n",
      "10\n"
     ]
    }
   ],
   "source": [
    "apoorv = Human()\n",
    "apoorv.age = 10\n",
    "apoorv.age_fun() #this is the same as"
   ]
  },
  {
   "cell_type": "code",
   "execution_count": 19,
   "id": "0c2b92d0",
   "metadata": {},
   "outputs": [
    {
     "name": "stdout",
     "output_type": "stream",
     "text": [
      "<__main__.Human object at 0x0000021A9F19C9D0>\n",
      "10\n"
     ]
    }
   ],
   "source": [
    "Human.age_fun(apoorv) #this"
   ]
  },
  {
   "cell_type": "code",
   "execution_count": 20,
   "id": "dadd69e7",
   "metadata": {},
   "outputs": [],
   "source": [
    "class Human: # class name in captial, no body leads to error\n",
    "    # pass can be added if you want an empty class temporarlily\n",
    "    name = \"nameless\"\n",
    "    age = 0 #these are the default values of the class\n",
    "    def age_fun(self): \n",
    "        # Human.age will always print the efault age, whereas \n",
    "        # self.age will print the age of the given object.\n",
    "        print(f\"Default age is {Human.age} and Kunal's age is {self.age}\")\n",
    "    "
   ]
  },
  {
   "cell_type": "code",
   "execution_count": 21,
   "id": "e21250a7",
   "metadata": {},
   "outputs": [],
   "source": [
    "kunal = Human()\n",
    "kunal.age = 90"
   ]
  },
  {
   "cell_type": "code",
   "execution_count": 22,
   "id": "c09c9397",
   "metadata": {},
   "outputs": [
    {
     "name": "stdout",
     "output_type": "stream",
     "text": [
      "Default age is 0 and Kunal's age is 90\n"
     ]
    }
   ],
   "source": [
    "kunal.age_fun()"
   ]
  },
  {
   "cell_type": "markdown",
   "id": "a6e8e0cb",
   "metadata": {},
   "source": [
    "### Creating Constructors (accepting values during definition itself) ###"
   ]
  },
  {
   "cell_type": "code",
   "execution_count": 23,
   "id": "d9efa4e8",
   "metadata": {},
   "outputs": [],
   "source": [
    "class Human:\n",
    "    # This is known as overriding as we are overriding Python defaults.\n",
    "    def __init__(self, name, age):\n",
    "        self.name = name\n",
    "        self.age = age"
   ]
  },
  {
   "cell_type": "code",
   "execution_count": 24,
   "id": "4ace6cc3",
   "metadata": {},
   "outputs": [],
   "source": [
    "kunal = Human(\"Kunal\", 35) \n",
    "# This time the class has no variables instead the attributes are directly created inside the object."
   ]
  },
  {
   "cell_type": "code",
   "execution_count": 25,
   "id": "be951ea1",
   "metadata": {},
   "outputs": [
    {
     "data": {
      "text/plain": [
       "('Kunal', 35)"
      ]
     },
     "execution_count": 25,
     "metadata": {},
     "output_type": "execute_result"
    }
   ],
   "source": [
    "kunal.name, kunal.age"
   ]
  },
  {
   "cell_type": "code",
   "execution_count": 26,
   "id": "6735dd03",
   "metadata": {},
   "outputs": [
    {
     "ename": "AttributeError",
     "evalue": "type object 'Human' has no attribute 'name'",
     "output_type": "error",
     "traceback": [
      "\u001b[1;31m---------------------------------------------------------------------------\u001b[0m",
      "\u001b[1;31mAttributeError\u001b[0m                            Traceback (most recent call last)",
      "\u001b[1;32m<ipython-input-26-a6a73270fb7d>\u001b[0m in \u001b[0;36m<module>\u001b[1;34m\u001b[0m\n\u001b[1;32m----> 1\u001b[1;33m \u001b[0mHuman\u001b[0m\u001b[1;33m.\u001b[0m\u001b[0mname\u001b[0m\u001b[1;33m,\u001b[0m \u001b[0mHuman\u001b[0m\u001b[1;33m.\u001b[0m\u001b[0mage\u001b[0m \u001b[1;31m# Error, as no such attribute exxists in the class\u001b[0m\u001b[1;33m\u001b[0m\u001b[1;33m\u001b[0m\u001b[0m\n\u001b[0m",
      "\u001b[1;31mAttributeError\u001b[0m: type object 'Human' has no attribute 'name'"
     ]
    }
   ],
   "source": [
    "Human.name, Human.age # Error, as no such attribute exxists in the class"
   ]
  },
  {
   "cell_type": "code",
   "execution_count": 27,
   "id": "4bc90e0f",
   "metadata": {},
   "outputs": [],
   "source": [
    "# Attributes can be later moddified, however this is dangerous and we will prevent it."
   ]
  },
  {
   "cell_type": "code",
   "execution_count": 28,
   "id": "89b030d5",
   "metadata": {},
   "outputs": [
    {
     "name": "stdout",
     "output_type": "stream",
     "text": [
      "uneducated uneducated\n"
     ]
    }
   ],
   "source": [
    "# Inheritance example.\n",
    "Human.education = \"uneducated\"\n",
    "print(Human.education, kunal.education)\n",
    "# Even though kunal has no attribute of education, since the class has it, the object 'inherits' it."
   ]
  },
  {
   "cell_type": "markdown",
   "id": "726f221f",
   "metadata": {},
   "source": [
    "### Class Variable vs. Instance Variable ### "
   ]
  },
  {
   "cell_type": "raw",
   "id": "28962f92",
   "metadata": {},
   "source": [
    "Here educated is a class variable aka a static variable and are common for all objects,\n",
    "and the other variables are called instance variables."
   ]
  },
  {
   "cell_type": "code",
   "execution_count": 29,
   "id": "d973361f",
   "metadata": {},
   "outputs": [],
   "source": [
    "class Human:\n",
    "    # static variables are common for all instances\n",
    "    population = 0  # Initialising population to 0 \n",
    "    \n",
    "    def __init__(self, name, age):\n",
    "        self.name = name\n",
    "        self.age = age\n",
    "        \n",
    "        Human.population += 1 # Increase population by 1 every time a new instance (person) is added"
   ]
  },
  {
   "cell_type": "code",
   "execution_count": 30,
   "id": "2d46aef4",
   "metadata": {},
   "outputs": [
    {
     "data": {
      "text/plain": [
       "0"
      ]
     },
     "execution_count": 30,
     "metadata": {},
     "output_type": "execute_result"
    }
   ],
   "source": [
    "Human.population"
   ]
  },
  {
   "cell_type": "code",
   "execution_count": 31,
   "id": "425caf24",
   "metadata": {},
   "outputs": [
    {
     "name": "stdout",
     "output_type": "stream",
     "text": [
      "1 1\n",
      "2 2 2\n",
      "3 3 3 3\n"
     ]
    }
   ],
   "source": [
    "kunal = Human('Kunal', 35)\n",
    "print(kunal.population, Human.population,)\n",
    "apoorv = Human('Apoorv', 40)\n",
    "print(kunal.population, apoorv.population, Human.population,)\n",
    "lopez = Human('Lopez', 45)\n",
    "print(kunal.population, apoorv.population, lopez.population, Human.population,) \n",
    "\n",
    "# In all cases the population is same for everyone as it is a static variable"
   ]
  },
  {
   "cell_type": "code",
   "execution_count": 32,
   "id": "448d369c",
   "metadata": {},
   "outputs": [
    {
     "data": {
      "text/plain": [
       "(4, 3, 3)"
      ]
     },
     "execution_count": 32,
     "metadata": {},
     "output_type": "execute_result"
    }
   ],
   "source": [
    "kunal.population += 1\n",
    "kunal.population, apoorv.population, Human.population \n",
    "# note that now, a instance variable is created inside kunal and no longer calls 'populaton' \n",
    "# from the class"
   ]
  },
  {
   "cell_type": "code",
   "execution_count": 33,
   "id": "e748a998",
   "metadata": {},
   "outputs": [],
   "source": [
    "kunal.population += 1 # It is 5 now, while human.population is 3"
   ]
  },
  {
   "cell_type": "code",
   "execution_count": 34,
   "id": "798fea0e",
   "metadata": {},
   "outputs": [
    {
     "data": {
      "text/plain": [
       "(5, 4, 4, 4)"
      ]
     },
     "execution_count": 34,
     "metadata": {},
     "output_type": "execute_result"
    }
   ],
   "source": [
    "rahul = Human(\"Rahul\", 50)\n",
    "(kunal.population, apoorv.population, rahul.population, Human.population)"
   ]
  },
  {
   "cell_type": "raw",
   "id": "9ebf001e",
   "metadata": {},
   "source": [
    "Notice that kunal's population is no longer modified as an instance is added cuz now when kunal.population is called, it no longer calls from Human, but uses its local attribute"
   ]
  },
  {
   "cell_type": "code",
   "execution_count": 35,
   "id": "8415f046",
   "metadata": {},
   "outputs": [],
   "source": [
    "Human.population += 1"
   ]
  },
  {
   "cell_type": "code",
   "execution_count": 36,
   "id": "5793c7b4",
   "metadata": {},
   "outputs": [
    {
     "data": {
      "text/plain": [
       "(5, 5, 5, 5)"
      ]
     },
     "execution_count": 36,
     "metadata": {},
     "output_type": "execute_result"
    }
   ],
   "source": [
    "(kunal.population, apoorv.population, rahul.population, Human.population) \n",
    "# kunal.population will no longer be edited"
   ]
  },
  {
   "cell_type": "markdown",
   "id": "665da458",
   "metadata": {},
   "source": [
    "### Decorators, Static methods and Class Methods ###"
   ]
  },
  {
   "cell_type": "code",
   "execution_count": 37,
   "id": "3651134a",
   "metadata": {},
   "outputs": [],
   "source": [
    "class Human:\n",
    "    # static variables are common for all instances\n",
    "    population = 0  # Initialising population to 0 \n",
    "    \n",
    "    def __init__(self, name, age):\n",
    "        self.name = name\n",
    "        self.age = age\n",
    "        \n",
    "        Human.population += 1 # Increase population by 1 every time a new instance (person) is added\n",
    "        \n",
    "    @staticmethod  # This is called a Decorator\n",
    "    # By adding this, it tells pop() that when python calls the function and passes 'self' by default,\n",
    "    # dont worry about it.  Workings will be explained later.\n",
    "    # Static methods don't depend on the object of the Class.\n",
    "    def pop():\n",
    "        print(Human.population)\n",
    "        \n",
    "    def getName(self):\n",
    "        print(self.name)\n",
    "    \n",
    "    @classmethod \n",
    "    # By adding this the function chooses to pass the entire class instead of just a single instamce\n",
    "    def AtomBomb(cls):\n",
    "        cls.population = 0 \n",
    "        # Here, if the decorator wasn't added, 'cls' would play the same role as 'self', but due\n",
    "        # to the decorator, 'cls' now refers to the entire class Human."
   ]
  },
  {
   "cell_type": "code",
   "execution_count": 38,
   "id": "0863f540",
   "metadata": {},
   "outputs": [],
   "source": [
    "kunal = Human(\"Kunal\", 21)\n",
    "rahul = Human (\"Rahul\", 26)\n",
    "apoorv = Human(\"Apoorv\", 31)"
   ]
  },
  {
   "cell_type": "code",
   "execution_count": 39,
   "id": "7b70421c",
   "metadata": {},
   "outputs": [
    {
     "name": "stdout",
     "output_type": "stream",
     "text": [
      "3\n"
     ]
    }
   ],
   "source": [
    "kunal.pop()"
   ]
  },
  {
   "cell_type": "code",
   "execution_count": 40,
   "id": "1f990d49",
   "metadata": {},
   "outputs": [
    {
     "name": "stdout",
     "output_type": "stream",
     "text": [
      "Apoorv\n"
     ]
    }
   ],
   "source": [
    "apoorv.getName()"
   ]
  },
  {
   "cell_type": "code",
   "execution_count": 41,
   "id": "084f3097",
   "metadata": {},
   "outputs": [],
   "source": [
    "rahul.AtomBomb()"
   ]
  },
  {
   "cell_type": "code",
   "execution_count": 42,
   "id": "0fb4edad",
   "metadata": {},
   "outputs": [
    {
     "name": "stdout",
     "output_type": "stream",
     "text": [
      "0\n"
     ]
    }
   ],
   "source": [
    "apoorv.pop() # Entire class population has been made 0"
   ]
  },
  {
   "cell_type": "code",
   "execution_count": 43,
   "id": "edd13406",
   "metadata": {},
   "outputs": [],
   "source": [
    "class Human:\n",
    "    # static variables are common for all instances\n",
    "    population = 0  # Initialising population to 0 \n",
    "    \n",
    "    def __init__(self, name, age):\n",
    "        self.name = name\n",
    "        self.age = age\n",
    "        \n",
    "        Human.population += 1 # Increase population by 1 every time a new instance (person) is added\n",
    "        \n",
    "    @staticmethod  # This is called a Decorator\n",
    "    # By adding this, it tells pop() that when python calls the function and passes 'self' by default,\n",
    "    # dont worry about it.  Workings will be explained later.\n",
    "    # Static methods don't depend on the object of the Class.\n",
    "    def pop():\n",
    "        print(Human.population)\n",
    "        \n",
    "    def getName(self):\n",
    "        print(self.name)\n",
    "    \n",
    "    @classmethod \n",
    "    # By adding this the function chooses to pass the entire class instead of just a single instamce\n",
    "    def AtomBomb(cls):\n",
    "        cls.population = 0 \n",
    "        # Here, if the decorator wasn't added, 'cls' would play the same role as 'self', but due\n",
    "        # to the decorator, 'cls' now refers to the entire class Human.\n",
    "        \n",
    "    @classmethod\n",
    "    # This can be used as an  alternative constructor as well\n",
    "    def newHuman(cls, name, age):\n",
    "        return cls(name, age) # This is returning a new object in the class"
   ]
  },
  {
   "cell_type": "code",
   "execution_count": 44,
   "id": "6da73596",
   "metadata": {},
   "outputs": [],
   "source": [
    "kunal = Human(\"Kunal\", 21)\n",
    "rahul = Human (\"Rahul\", 26)\n",
    "apoorv = Human(\"Apoorv\", 31)"
   ]
  },
  {
   "cell_type": "code",
   "execution_count": 45,
   "id": "90a9e5aa",
   "metadata": {},
   "outputs": [
    {
     "name": "stdout",
     "output_type": "stream",
     "text": [
      "3\n"
     ]
    }
   ],
   "source": [
    "kunal.pop()"
   ]
  },
  {
   "cell_type": "code",
   "execution_count": 46,
   "id": "cc169a5c",
   "metadata": {},
   "outputs": [],
   "source": [
    "lopez = Human.newHuman(\"Lopez\", 36) \n",
    "# Yet another way of adding a human to the class, i.e., alternate constructor"
   ]
  },
  {
   "cell_type": "code",
   "execution_count": 47,
   "id": "a04d04c0",
   "metadata": {},
   "outputs": [
    {
     "name": "stdout",
     "output_type": "stream",
     "text": [
      "4\n"
     ]
    }
   ],
   "source": [
    "apoorv.pop()"
   ]
  },
  {
   "cell_type": "markdown",
   "id": "7d24067d",
   "metadata": {},
   "source": [
    "### Inheritance ###"
   ]
  },
  {
   "cell_type": "code",
   "execution_count": 48,
   "id": "dfe4041c",
   "metadata": {},
   "outputs": [],
   "source": [
    "class Parent:\n",
    "    f = 56\n",
    "    def __init__(self, value):\n",
    "        self.value = value"
   ]
  },
  {
   "cell_type": "code",
   "execution_count": 49,
   "id": "c77d31ff",
   "metadata": {},
   "outputs": [
    {
     "data": {
      "text/plain": [
       "(56, 1)"
      ]
     },
     "execution_count": 49,
     "metadata": {},
     "output_type": "execute_result"
    }
   ],
   "source": [
    "kunal = Parent(1)\n",
    "kunal.f, kunal.value"
   ]
  },
  {
   "cell_type": "code",
   "execution_count": 50,
   "id": "6902f6b1",
   "metadata": {},
   "outputs": [],
   "source": [
    "class Child(Parent): # Child class inherits everything from the Parent class\n",
    "    def __init__(self, value):\n",
    "        super().__init__(value) \n",
    "        # super() calls the parent class, and is equivalent to Parent.__init__(value)"
   ]
  },
  {
   "cell_type": "code",
   "execution_count": 51,
   "id": "563d589e",
   "metadata": {},
   "outputs": [
    {
     "data": {
      "text/plain": [
       "(56, 32)"
      ]
     },
     "execution_count": 51,
     "metadata": {},
     "output_type": "execute_result"
    }
   ],
   "source": [
    "obj = Child(32)\n",
    "obj.f, obj.value #inherits f from parent even though its never mentioned in Child"
   ]
  },
  {
   "cell_type": "raw",
   "id": "df9e9753",
   "metadata": {},
   "source": [
    "Now we try to hide variables."
   ]
  },
  {
   "cell_type": "code",
   "execution_count": 52,
   "id": "182c05d0",
   "metadata": {},
   "outputs": [],
   "source": [
    "class A:\n",
    "    def __init__(self, value):\n",
    "        self.__value = value  # This creates a private value and cannot be accessed.\n",
    "        # In essence python has changed the name of the attribute to _A__value"
   ]
  },
  {
   "cell_type": "code",
   "execution_count": 53,
   "id": "d9949994",
   "metadata": {},
   "outputs": [],
   "source": [
    "obj = A(77)"
   ]
  },
  {
   "cell_type": "code",
   "execution_count": 54,
   "id": "c1c5c9de",
   "metadata": {},
   "outputs": [
    {
     "ename": "AttributeError",
     "evalue": "'A' object has no attribute 'value'",
     "output_type": "error",
     "traceback": [
      "\u001b[1;31m---------------------------------------------------------------------------\u001b[0m",
      "\u001b[1;31mAttributeError\u001b[0m                            Traceback (most recent call last)",
      "\u001b[1;32m<ipython-input-54-f89dcb178fa2>\u001b[0m in \u001b[0;36m<module>\u001b[1;34m\u001b[0m\n\u001b[1;32m----> 1\u001b[1;33m \u001b[0mobj\u001b[0m\u001b[1;33m.\u001b[0m\u001b[0mvalue\u001b[0m \u001b[1;31m# It wont be shown as value is a private attribute\u001b[0m\u001b[1;33m\u001b[0m\u001b[1;33m\u001b[0m\u001b[0m\n\u001b[0m",
      "\u001b[1;31mAttributeError\u001b[0m: 'A' object has no attribute 'value'"
     ]
    }
   ],
   "source": [
    "obj.value # It wont be shown as value is a private attribute"
   ]
  },
  {
   "cell_type": "code",
   "execution_count": 55,
   "id": "88fffefc",
   "metadata": {},
   "outputs": [
    {
     "data": {
      "text/plain": [
       "77"
      ]
     },
     "execution_count": 55,
     "metadata": {},
     "output_type": "execute_result"
    }
   ],
   "source": [
    "obj._A__value # This way you can access hidden attributes\n",
    "# This is not really a private aattribute "
   ]
  },
  {
   "cell_type": "markdown",
   "id": "3aaae1ba",
   "metadata": {},
   "source": [
    " ### Scoping ###"
   ]
  },
  {
   "cell_type": "code",
   "execution_count": 56,
   "id": "9ed995cf",
   "metadata": {},
   "outputs": [],
   "source": [
    "def fun():\n",
    "    a = 10\n",
    "    return a"
   ]
  },
  {
   "cell_type": "code",
   "execution_count": 57,
   "id": "ed0fd5a0",
   "metadata": {},
   "outputs": [
    {
     "data": {
      "text/plain": [
       "10"
      ]
     },
     "execution_count": 57,
     "metadata": {},
     "output_type": "execute_result"
    }
   ],
   "source": [
    "fun()"
   ]
  },
  {
   "cell_type": "code",
   "execution_count": 58,
   "id": "5664473b",
   "metadata": {},
   "outputs": [
    {
     "data": {
      "text/plain": [
       "'   4  5 6 7 '"
      ]
     },
     "execution_count": 58,
     "metadata": {},
     "output_type": "execute_result"
    }
   ],
   "source": [
    "a \n",
    "# a is defined only within the scope of the function,\n",
    "# hence when called from outside, it cant be accessed."
   ]
  },
  {
   "cell_type": "code",
   "execution_count": 59,
   "id": "597170cd",
   "metadata": {},
   "outputs": [
    {
     "ename": "UnboundLocalError",
     "evalue": "local variable 'a' referenced before assignment",
     "output_type": "error",
     "traceback": [
      "\u001b[1;31m---------------------------------------------------------------------------\u001b[0m",
      "\u001b[1;31mUnboundLocalError\u001b[0m                         Traceback (most recent call last)",
      "\u001b[1;32m<ipython-input-59-8b9fc7e03751>\u001b[0m in \u001b[0;36m<module>\u001b[1;34m\u001b[0m\n\u001b[0;32m      5\u001b[0m     \u001b[0mprint\u001b[0m \u001b[1;33m(\u001b[0m\u001b[0ma\u001b[0m\u001b[1;33m)\u001b[0m\u001b[1;33m\u001b[0m\u001b[1;33m\u001b[0m\u001b[0m\n\u001b[0;32m      6\u001b[0m     \u001b[1;32mreturn\u001b[0m \u001b[0ma\u001b[0m\u001b[1;33m\u001b[0m\u001b[1;33m\u001b[0m\u001b[0m\n\u001b[1;32m----> 7\u001b[1;33m \u001b[0mfun\u001b[0m\u001b[1;33m(\u001b[0m\u001b[1;33m)\u001b[0m\u001b[1;33m\u001b[0m\u001b[1;33m\u001b[0m\u001b[0m\n\u001b[0m",
      "\u001b[1;32m<ipython-input-59-8b9fc7e03751>\u001b[0m in \u001b[0;36mfun\u001b[1;34m()\u001b[0m\n\u001b[0;32m      1\u001b[0m \u001b[0ma\u001b[0m \u001b[1;33m=\u001b[0m \u001b[1;36m20\u001b[0m  \u001b[1;31m#this is a global variable.\u001b[0m\u001b[1;33m\u001b[0m\u001b[1;33m\u001b[0m\u001b[0m\n\u001b[0;32m      2\u001b[0m \u001b[1;32mdef\u001b[0m \u001b[0mfun\u001b[0m\u001b[1;33m(\u001b[0m\u001b[1;33m)\u001b[0m\u001b[1;33m:\u001b[0m\u001b[1;33m\u001b[0m\u001b[1;33m\u001b[0m\u001b[0m\n\u001b[1;32m----> 3\u001b[1;33m     \u001b[0mprint\u001b[0m \u001b[1;33m(\u001b[0m\u001b[0ma\u001b[0m\u001b[1;33m)\u001b[0m\u001b[1;33m\u001b[0m\u001b[1;33m\u001b[0m\u001b[0m\n\u001b[0m\u001b[0;32m      4\u001b[0m     \u001b[0ma\u001b[0m \u001b[1;33m+=\u001b[0m \u001b[1;36m20\u001b[0m  \u001b[1;31m# Global variables can be accessed within a function but can NOT be modified.\u001b[0m\u001b[1;33m\u001b[0m\u001b[1;33m\u001b[0m\u001b[0m\n\u001b[0;32m      5\u001b[0m     \u001b[0mprint\u001b[0m \u001b[1;33m(\u001b[0m\u001b[0ma\u001b[0m\u001b[1;33m)\u001b[0m\u001b[1;33m\u001b[0m\u001b[1;33m\u001b[0m\u001b[0m\n",
      "\u001b[1;31mUnboundLocalError\u001b[0m: local variable 'a' referenced before assignment"
     ]
    }
   ],
   "source": [
    "a = 20  #this is a global variable.\n",
    "def fun():\n",
    "    print (a)\n",
    "    a += 20  # Global variables can be accessed within a function but can NOT be modified. \n",
    "    print (a)\n",
    "    return a\n",
    "fun()"
   ]
  },
  {
   "cell_type": "code",
   "execution_count": 60,
   "id": "455f6ed0",
   "metadata": {},
   "outputs": [
    {
     "data": {
      "text/plain": [
       "80"
      ]
     },
     "execution_count": 60,
     "metadata": {},
     "output_type": "execute_result"
    }
   ],
   "source": [
    "# However, if we difne a inside the function, then it can be modified\n",
    "\n",
    "a = 20\n",
    "\n",
    "def fun():\n",
    "    a = 60\n",
    "    a += 20\n",
    "    return a # returns the local a\n",
    "fun()"
   ]
  },
  {
   "cell_type": "code",
   "execution_count": 61,
   "id": "62365254",
   "metadata": {},
   "outputs": [
    {
     "data": {
      "text/plain": [
       "20"
      ]
     },
     "execution_count": 61,
     "metadata": {},
     "output_type": "execute_result"
    }
   ],
   "source": [
    "a #the global a"
   ]
  },
  {
   "cell_type": "raw",
   "id": "f726edf6",
   "metadata": {},
   "source": [
    "LEGB Rule\n",
    "Access memory in this order: \n",
    "    1) Local : First checks in the function's body\n",
    "    2) Enclosed: Then checks the body of any function it is enclosed in\n",
    "    3) GLobal: Checks the global memory\n",
    "    4) Built-In: Finally check python's built-in variables"
   ]
  },
  {
   "cell_type": "code",
   "execution_count": 62,
   "id": "314d1e3f",
   "metadata": {},
   "outputs": [
    {
     "name": "stdout",
     "output_type": "stream",
     "text": [
      "locals for a() are: {'x': 10, 'b': <function a.<locals>.b at 0x0000021A9F1AF1F0>, 'y': 30}\n",
      "x in a() is 10\n",
      "x in b() is 40\n",
      "y in b() is 30\n",
      "z in b() is 150\n",
      "locals for b() are: {'x': 40, 'y': 30}\n"
     ]
    }
   ],
   "source": [
    "# Example\n",
    "\n",
    "x = 50\n",
    "y = 100\n",
    "z = 150\n",
    "\n",
    "def a():\n",
    "    x = 10 # Local to a()\n",
    "    y = 30 # Local to a()\n",
    "    # x = 10 is enclosed for b(), and ha\n",
    "    def b():\n",
    "        x = 40 #Local to b()\n",
    "        print(f\"x in b() is {x}\") # local\n",
    "        print(f\"y in b() is {y}\") # enclosed\n",
    "        print(f\"z in b() is {z}\") # global\n",
    "        print(\"locals for b() are:\", locals()) # Ecnlosed value, y(=30) comes under locals()\n",
    "        # b() can only modify value of x (=40)\n",
    "\n",
    "    print(\"locals for a() are:\", locals())\n",
    "    print(f\"x in a() is {x}\")\n",
    "    # a() can onlu modify the value of x (=10) and y(=30)\n",
    "    return b()\n",
    "\n",
    "a()"
   ]
  },
  {
   "cell_type": "code",
   "execution_count": 63,
   "id": "86c9d750",
   "metadata": {},
   "outputs": [
    {
     "name": "stdout",
     "output_type": "stream",
     "text": [
      "x in global memory before running a(): 256\n",
      "x in a() before running b(): 10\n",
      "x in b() before running c(): 45\n",
      "x in c() is the one form b(), but modified now: 46\n",
      "x in d() is the one from the global memory, but modified now: 257\n",
      "x in b() after running c(): 46\n",
      "x in a() after running b(): 10\n",
      "x in global memory after running a(): 257\n"
     ]
    }
   ],
   "source": [
    "x = 256\n",
    "\n",
    "def a():\n",
    "    x = 10\n",
    "    \n",
    "    def b():\n",
    "        x = 45\n",
    "        \n",
    "        def c():\n",
    "            nonlocal x # Explicitly asking to edit x from b()\n",
    "            x += 1\n",
    "            print(\"x in c() is the one form b(), but modified now:\", x)\n",
    "        def d():\n",
    "            global x # Explicitly asking to edit x from global memory (=256)\n",
    "            x += 1\n",
    "            print (\"x in d() is the one from the global memory, but modified now:\", x)\n",
    "        print(\"x in b() before running c():\", x)\n",
    "        c()\n",
    "        d()\n",
    "        print(\"x in b() after running c():\", x)\n",
    "\n",
    "    print(\"x in a() before running b():\", x)\n",
    "    b()\n",
    "    print(\"x in a() after running b():\", x)\n",
    "print(\"x in global memory before running a():\", x)\n",
    "a()\n",
    "print(\"x in global memory after running a():\", x)        "
   ]
  },
  {
   "cell_type": "markdown",
   "id": "e21b3523",
   "metadata": {},
   "source": [
    "### Closures ###"
   ]
  },
  {
   "cell_type": "code",
   "execution_count": 64,
   "id": "c1521005",
   "metadata": {},
   "outputs": [],
   "source": [
    "def outer_fun():\n",
    "    message = 'hi'\n",
    "    \n",
    "    def inner_fun():\n",
    "        ## message = 'hey' # This is not allowed for closures as then the inner function cant\n",
    "                           # access message variable from the outer function.\n",
    "        print(\"locals in inner_fun() are:\", locals())\n",
    "        print(message) # Free variable\n",
    "    \n",
    "    return inner_fun"
   ]
  },
  {
   "cell_type": "code",
   "execution_count": 65,
   "id": "6523967a",
   "metadata": {},
   "outputs": [
    {
     "name": "stdout",
     "output_type": "stream",
     "text": [
      "<function outer_fun.<locals>.inner_fun at 0x0000021A9F1AFD30>\n"
     ]
    }
   ],
   "source": [
    "my_fun = outer_fun() # my_fun = inner_fun\n",
    "print(my_fun)"
   ]
  },
  {
   "cell_type": "code",
   "execution_count": 66,
   "id": "92e27e11",
   "metadata": {},
   "outputs": [
    {
     "name": "stdout",
     "output_type": "stream",
     "text": [
      "locals in inner_fun() are: {'message': 'hi'}\n",
      "hi\n"
     ]
    }
   ],
   "source": [
    "my_fun() \n",
    "# Even though the outer function is no longer open, its variables are still inact\n",
    "# within the inner function, and the scope of the variables are not over. This is closure."
   ]
  },
  {
   "cell_type": "raw",
   "id": "f3f314dd",
   "metadata": {},
   "source": [
    "Conditions for closures in python:\n",
    "    1) The functions must be nested.\n",
    "    2) The nested function must be able to access all the variables in the outer function\n",
    "    3) The outer function must return the inner function.\n",
    "Decorators use closures internally."
   ]
  },
  {
   "cell_type": "code",
   "execution_count": 67,
   "id": "59fc1ec9",
   "metadata": {},
   "outputs": [],
   "source": [
    "# Example\n",
    "\n",
    "def make_multiplier(n):\n",
    "    def multiplier(x):\n",
    "        return x * n\n",
    "    return multiplier"
   ]
  },
  {
   "cell_type": "code",
   "execution_count": 68,
   "id": "0e7d2715",
   "metadata": {},
   "outputs": [],
   "source": [
    "times2 = make_multiplier(2)"
   ]
  },
  {
   "cell_type": "code",
   "execution_count": 69,
   "id": "7a32c3d7",
   "metadata": {},
   "outputs": [
    {
     "data": {
      "text/plain": [
       "80"
      ]
     },
     "execution_count": 69,
     "metadata": {},
     "output_type": "execute_result"
    }
   ],
   "source": [
    "times2(40) # Even though the make_multiplier is not being used, the value of n(=2) is not lost."
   ]
  },
  {
   "cell_type": "code",
   "execution_count": 70,
   "id": "63ca1ffb",
   "metadata": {},
   "outputs": [],
   "source": [
    "times3 = make_multiplier(3)"
   ]
  },
  {
   "cell_type": "code",
   "execution_count": 71,
   "id": "446929fe",
   "metadata": {},
   "outputs": [
    {
     "data": {
      "text/plain": [
       "42"
      ]
     },
     "execution_count": 71,
     "metadata": {},
     "output_type": "execute_result"
    }
   ],
   "source": [
    "times3(14) # Closures help in data hiding."
   ]
  }
 ],
 "metadata": {
  "kernelspec": {
   "display_name": "Python 3",
   "language": "python",
   "name": "python3"
  },
  "language_info": {
   "codemirror_mode": {
    "name": "ipython",
    "version": 3
   },
   "file_extension": ".py",
   "mimetype": "text/x-python",
   "name": "python",
   "nbconvert_exporter": "python",
   "pygments_lexer": "ipython3",
   "version": "3.8.8"
  }
 },
 "nbformat": 4,
 "nbformat_minor": 5
}
